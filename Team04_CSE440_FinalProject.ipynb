{
 "cells": [
  {
   "cell_type": "code",
   "execution_count": 1,
   "metadata": {
    "colab": {
     "base_uri": "https://localhost:8080/"
    },
    "id": "I44GjZ8vuKpa",
    "outputId": "a491a082-c4df-46a2-fa59-25fdebb45598"
   },
   "outputs": [],
   "source": [
    "# Download GloVe embeddings file\n",
    "#!wget http://nlp.stanford.edu/data/glove.6B.zip\n",
    "#!unzip glove.6B.zip"
   ]
  },
  {
   "cell_type": "code",
   "execution_count": 2,
   "metadata": {
    "id": "zznWYkifrwSC"
   },
   "outputs": [
    {
     "name": "stderr",
     "output_type": "stream",
     "text": [
      "Using TensorFlow backend.\n"
     ]
    }
   ],
   "source": [
    "import numpy as np\n",
    "import pandas as pd\n",
    "import matplotlib.pyplot as plt\n",
    "from sklearn.model_selection import train_test_split\n",
    "from keras.preprocessing.text import Tokenizer\n",
    "from keras.preprocessing.sequence import pad_sequences\n",
    "from keras.models import Sequential\n",
    "from keras.layers import Embedding, SpatialDropout1D, LSTM, Dense\n",
    "from sklearn.metrics import classification_report\n",
    "from sklearn.preprocessing import LabelEncoder\n",
    "from keras.layers import Bidirectional"
   ]
  },
  {
   "cell_type": "code",
   "execution_count": 3,
   "metadata": {
    "id": "0uFjzd3ury5y"
   },
   "outputs": [],
   "source": [
    "# Load the dataset\n",
    "data = pd.read_csv(\"train_all_tasks.csv\")"
   ]
  },
  {
   "cell_type": "code",
   "execution_count": 4,
   "metadata": {
    "colab": {
     "base_uri": "https://localhost:8080/",
     "height": 206
    },
    "id": "OEht2rWEtZqr",
    "outputId": "f2f77c0f-d687-4c53-efe1-8dbb74aff445"
   },
   "outputs": [
    {
     "data": {
      "text/html": [
       "<div>\n",
       "<style scoped>\n",
       "    .dataframe tbody tr th:only-of-type {\n",
       "        vertical-align: middle;\n",
       "    }\n",
       "\n",
       "    .dataframe tbody tr th {\n",
       "        vertical-align: top;\n",
       "    }\n",
       "\n",
       "    .dataframe thead th {\n",
       "        text-align: right;\n",
       "    }\n",
       "</style>\n",
       "<table border=\"1\" class=\"dataframe\">\n",
       "  <thead>\n",
       "    <tr style=\"text-align: right;\">\n",
       "      <th></th>\n",
       "      <th>rewire_id</th>\n",
       "      <th>text</th>\n",
       "      <th>label_sexist</th>\n",
       "      <th>label_category</th>\n",
       "      <th>label_vector</th>\n",
       "    </tr>\n",
       "  </thead>\n",
       "  <tbody>\n",
       "    <tr>\n",
       "      <th>0</th>\n",
       "      <td>sexism2022_english-7358</td>\n",
       "      <td>Damn, this writing was pretty chaotic</td>\n",
       "      <td>not sexist</td>\n",
       "      <td>none</td>\n",
       "      <td>none</td>\n",
       "    </tr>\n",
       "    <tr>\n",
       "      <th>1</th>\n",
       "      <td>sexism2022_english-2367</td>\n",
       "      <td>Yeah, and apparently a bunch of misogynistic v...</td>\n",
       "      <td>not sexist</td>\n",
       "      <td>none</td>\n",
       "      <td>none</td>\n",
       "    </tr>\n",
       "    <tr>\n",
       "      <th>2</th>\n",
       "      <td>sexism2022_english-3073</td>\n",
       "      <td>How the FUCK is this woman still an MP!!!???</td>\n",
       "      <td>not sexist</td>\n",
       "      <td>none</td>\n",
       "      <td>none</td>\n",
       "    </tr>\n",
       "    <tr>\n",
       "      <th>3</th>\n",
       "      <td>sexism2022_english-14895</td>\n",
       "      <td>Understand. Know you're right. At same time I ...</td>\n",
       "      <td>not sexist</td>\n",
       "      <td>none</td>\n",
       "      <td>none</td>\n",
       "    </tr>\n",
       "    <tr>\n",
       "      <th>4</th>\n",
       "      <td>sexism2022_english-4118</td>\n",
       "      <td>Surprized they didn't stop and rape some women</td>\n",
       "      <td>not sexist</td>\n",
       "      <td>none</td>\n",
       "      <td>none</td>\n",
       "    </tr>\n",
       "  </tbody>\n",
       "</table>\n",
       "</div>"
      ],
      "text/plain": [
       "                  rewire_id  \\\n",
       "0   sexism2022_english-7358   \n",
       "1   sexism2022_english-2367   \n",
       "2   sexism2022_english-3073   \n",
       "3  sexism2022_english-14895   \n",
       "4   sexism2022_english-4118   \n",
       "\n",
       "                                                text label_sexist  \\\n",
       "0              Damn, this writing was pretty chaotic   not sexist   \n",
       "1  Yeah, and apparently a bunch of misogynistic v...   not sexist   \n",
       "2       How the FUCK is this woman still an MP!!!???   not sexist   \n",
       "3  Understand. Know you're right. At same time I ...   not sexist   \n",
       "4     Surprized they didn't stop and rape some women   not sexist   \n",
       "\n",
       "  label_category label_vector  \n",
       "0           none         none  \n",
       "1           none         none  \n",
       "2           none         none  \n",
       "3           none         none  \n",
       "4           none         none  "
      ]
     },
     "execution_count": 4,
     "metadata": {},
     "output_type": "execute_result"
    }
   ],
   "source": [
    "data.head()"
   ]
  },
  {
   "cell_type": "code",
   "execution_count": 5,
   "metadata": {
    "id": "69oPXtlWBVSb"
   },
   "outputs": [],
   "source": [
    "# Filter columns for sexism classification\n",
    "data_sexism = data[['text', 'label_sexist']]\n",
    "\n",
    "# Filter columns for category classification\n",
    "data_category = data[['text', 'label_category']]"
   ]
  },
  {
   "cell_type": "code",
   "execution_count": 6,
   "metadata": {
    "colab": {
     "base_uri": "https://localhost:8080/"
    },
    "id": "kW2fmDn8tbAq",
    "outputId": "4e6cbac2-7321-4c94-c42f-1ede68dcb890"
   },
   "outputs": [
    {
     "name": "stdout",
     "output_type": "stream",
     "text": [
      "Class Labe_Sexist:\n",
      "not sexist    0.757286\n",
      "sexist        0.242714\n",
      "Name: label_sexist, dtype: float64\n",
      "Class Lable_Category:\n",
      "none                                        0.757286\n",
      "2. derogation                               0.113571\n",
      "3. animosity                                0.083214\n",
      "4. prejudiced discussions                   0.023786\n",
      "1. threats, plans to harm and incitement    0.022143\n",
      "Name: label_category, dtype: float64\n"
     ]
    }
   ],
   "source": [
    "# Display class distribution\n",
    "class_sexism = data_sexism['label_sexist'].value_counts(normalize=True)\n",
    "class_category = data_category['label_category'].value_counts(normalize=True)\n",
    "print(\"Class Labe_Sexist:\")\n",
    "print(class_sexism)\n",
    "print(\"Class Lable_Category:\")\n",
    "print(class_category)"
   ]
  },
  {
   "cell_type": "code",
   "execution_count": 7,
   "metadata": {
    "id": "eL9fzWhkt3bS"
   },
   "outputs": [],
   "source": [
    "# Tokenization for sexism classification\n",
    "max_features = 1000\n",
    "tokenizer_sexism = Tokenizer(num_words=max_features, split=' ')\n",
    "tokenizer_sexism.fit_on_texts(data_sexism['text'].values)\n",
    "X_sexism = tokenizer_sexism.texts_to_sequences(data_sexism['text'].values)\n",
    "X_sexism = pad_sequences(X_sexism)"
   ]
  },
  {
   "cell_type": "code",
   "execution_count": 8,
   "metadata": {
    "id": "hH2htsYrBc4G"
   },
   "outputs": [],
   "source": [
    "# Tokenization for category classification\n",
    "tokenizer_category = Tokenizer(num_words=max_features, split=' ')\n",
    "tokenizer_category.fit_on_texts(data_category['text'].values)\n",
    "X_category = tokenizer_category.texts_to_sequences(data_category['text'].values)\n",
    "X_category = pad_sequences(X_category)"
   ]
  },
  {
   "cell_type": "code",
   "execution_count": 9,
   "metadata": {
    "colab": {
     "base_uri": "https://localhost:8080/"
    },
    "id": "xuhp-4LEt44r",
    "outputId": "6a93c297-5f31-42ce-f1d9-3c6fcd662378"
   },
   "outputs": [
    {
     "name": "stderr",
     "output_type": "stream",
     "text": [
      "C:\\Users\\Arnab\\.conda\\envs\\new\\lib\\site-packages\\ipykernel_launcher.py:3: SettingWithCopyWarning: \n",
      "A value is trying to be set on a copy of a slice from a DataFrame.\n",
      "Try using .loc[row_indexer,col_indexer] = value instead\n",
      "\n",
      "See the caveats in the documentation: https://pandas.pydata.org/pandas-docs/stable/user_guide/indexing.html#returning-a-view-versus-a-copy\n",
      "  This is separate from the ipykernel package so we can avoid doing imports until\n"
     ]
    }
   ],
   "source": [
    "# Encoding labels for sexism classification\n",
    "label_encoder_sexism = LabelEncoder()\n",
    "data_sexism['label_sexist_encoded'] = label_encoder_sexism.fit_transform(data_sexism['label_sexist'])\n",
    "Y_sexism = pd.get_dummies(data_sexism['label_sexist_encoded']).values\n"
   ]
  },
  {
   "cell_type": "code",
   "execution_count": 10,
   "metadata": {
    "colab": {
     "base_uri": "https://localhost:8080/"
    },
    "id": "8IwHaUa4Byo6",
    "outputId": "f63f19ad-b3db-4dd9-8de6-24233ea1320e"
   },
   "outputs": [
    {
     "name": "stderr",
     "output_type": "stream",
     "text": [
      "C:\\Users\\Arnab\\.conda\\envs\\new\\lib\\site-packages\\ipykernel_launcher.py:3: SettingWithCopyWarning: \n",
      "A value is trying to be set on a copy of a slice from a DataFrame.\n",
      "Try using .loc[row_indexer,col_indexer] = value instead\n",
      "\n",
      "See the caveats in the documentation: https://pandas.pydata.org/pandas-docs/stable/user_guide/indexing.html#returning-a-view-versus-a-copy\n",
      "  This is separate from the ipykernel package so we can avoid doing imports until\n"
     ]
    }
   ],
   "source": [
    "# Encoding labels for category classification\n",
    "label_encoder_category = LabelEncoder()\n",
    "data_category['label_category_encoded'] = label_encoder_category.fit_transform(data_category['label_category'])\n",
    "Y_category = pd.get_dummies(data_category['label_category_encoded']).values"
   ]
  },
  {
   "cell_type": "code",
   "execution_count": 11,
   "metadata": {
    "id": "LmpjtFwjt76C"
   },
   "outputs": [],
   "source": [
    "# Load GloVe embeddings\n",
    "embedding_dim = 100\n",
    "embedding_index = {}\n",
    "with open('glove.6B.100d.txt', encoding='utf8') as f:\n",
    "    for line in f:\n",
    "        values = line.split()\n",
    "        word = values[0]\n",
    "        coefs = np.asarray(values[1:], dtype='float32')\n",
    "        embedding_index[word] = coefs"
   ]
  },
  {
   "cell_type": "code",
   "execution_count": 12,
   "metadata": {
    "id": "u1zlNByAuUTL"
   },
   "outputs": [],
   "source": [
    "# Create embedding matrix for sexism classification\n",
    "word_index_sexism = tokenizer_sexism.word_index\n",
    "num_words_sexism = min(max_features, len(word_index_sexism) + 1)\n",
    "embedding_matrix_sexism = np.zeros((num_words_sexism, embedding_dim))\n",
    "for word, i in word_index_sexism.items():\n",
    "    if i < max_features:\n",
    "        embedding_vector = embedding_index.get(word)\n",
    "        if embedding_vector is not None:\n",
    "            embedding_matrix_sexism[i] = embedding_vector"
   ]
  },
  {
   "cell_type": "code",
   "execution_count": 13,
   "metadata": {
    "id": "rZBE_TQyCEYJ"
   },
   "outputs": [],
   "source": [
    "# Create embedding matrix for category classification\n",
    "word_index_category = tokenizer_category.word_index\n",
    "num_words_category = min(max_features, len(word_index_category) + 1)\n",
    "embedding_matrix_category = np.zeros((num_words_category, embedding_dim))\n",
    "for word, i in word_index_category.items():\n",
    "    if i < max_features:\n",
    "        embedding_vector = embedding_index.get(word)\n",
    "        if embedding_vector is not None:\n",
    "            embedding_matrix_category[i] = embedding_vector"
   ]
  },
  {
   "cell_type": "code",
   "execution_count": 14,
   "metadata": {
    "id": "vsPAnNfk21EZ"
   },
   "outputs": [],
   "source": [
    "# Split the dataset into training and testing sets for sexism classification\n",
    "X_train_sexism, X_test_sexism, Y_train_sexism, Y_test_sexism = train_test_split(X_sexism, Y_sexism, test_size=0.2, random_state=42)\n",
    "\n",
    "# Split the dataset into training and testing sets for category classification\n",
    "X_train_category, X_test_category, Y_train_category, Y_test_category = train_test_split(X_category, Y_category, test_size=0.2, random_state=42)"
   ]
  },
  {
   "cell_type": "code",
   "execution_count": 15,
   "metadata": {
    "id": "SiJPW2t4urPT"
   },
   "outputs": [],
   "source": [
    "# Define and train the LSTM model for sexism classification using TensorFlow Keras\n",
    "model_sexism = Sequential()\n",
    "model_sexism.add(Embedding(input_dim=max_features, output_dim=embedding_dim, input_length=X_sexism.shape[1], weights=[embedding_matrix_sexism], trainable=False))\n",
    "model_sexism.add(SpatialDropout1D(0.4))\n",
    "model_sexism.add(Bidirectional(LSTM(196, dropout=0.2, recurrent_dropout=0.2)))\n",
    "model_sexism.add(Dense(2, activation='softmax'))\n",
    "model_sexism.compile(loss='binary_crossentropy', optimizer='adam', metrics=['accuracy'])"
   ]
  },
  {
   "cell_type": "code",
   "execution_count": 16,
   "metadata": {
    "colab": {
     "base_uri": "https://localhost:8080/"
    },
    "id": "i3m5b3MeCLLZ",
    "outputId": "aa880455-42be-45a5-e03f-f701cf83be94"
   },
   "outputs": [
    {
     "name": "stdout",
     "output_type": "stream",
     "text": [
      "Model: \"sequential_1\"\n",
      "_________________________________________________________________\n",
      "Layer (type)                 Output Shape              Param #   \n",
      "=================================================================\n",
      "embedding_1 (Embedding)      (None, 51, 100)           100000    \n",
      "_________________________________________________________________\n",
      "spatial_dropout1d_1 (Spatial (None, 51, 100)           0         \n",
      "_________________________________________________________________\n",
      "bidirectional_1 (Bidirection (None, 392)               465696    \n",
      "_________________________________________________________________\n",
      "dense_1 (Dense)              (None, 2)                 786       \n",
      "=================================================================\n",
      "Total params: 566,482\n",
      "Trainable params: 466,482\n",
      "Non-trainable params: 100,000\n",
      "_________________________________________________________________\n"
     ]
    }
   ],
   "source": [
    "# Model summary for sexism classification\n",
    "model_sexism.summary()"
   ]
  },
  {
   "cell_type": "code",
   "execution_count": 17,
   "metadata": {
    "id": "thRqJmvOCR0V"
   },
   "outputs": [],
   "source": [
    "# Define and train the LSTM model for category classification using TensorFlow Keras\n",
    "model_category = Sequential()\n",
    "model_category.add(Embedding(input_dim=max_features, output_dim=embedding_dim, input_length=X_category.shape[1], weights=[embedding_matrix_category], trainable=False))\n",
    "model_category.add(SpatialDropout1D(0.4))\n",
    "model_category.add(Bidirectional(LSTM(196, dropout=0.2, recurrent_dropout=0.2)))\n",
    "model_category.add(Dense(5, activation='softmax'))  # 5 classes\n",
    "model_category.compile(loss='categorical_crossentropy', optimizer='adam', metrics=['accuracy'])  # categorical crossentropy for multiclass classification"
   ]
  },
  {
   "cell_type": "code",
   "execution_count": 18,
   "metadata": {
    "colab": {
     "base_uri": "https://localhost:8080/"
    },
    "id": "qNq5-2hY3MxR",
    "outputId": "9d513154-68b5-4011-8c0a-d8ba8e154bb3"
   },
   "outputs": [
    {
     "name": "stdout",
     "output_type": "stream",
     "text": [
      "Model: \"sequential_2\"\n",
      "_________________________________________________________________\n",
      "Layer (type)                 Output Shape              Param #   \n",
      "=================================================================\n",
      "embedding_2 (Embedding)      (None, 51, 100)           100000    \n",
      "_________________________________________________________________\n",
      "spatial_dropout1d_2 (Spatial (None, 51, 100)           0         \n",
      "_________________________________________________________________\n",
      "bidirectional_2 (Bidirection (None, 392)               465696    \n",
      "_________________________________________________________________\n",
      "dense_2 (Dense)              (None, 5)                 1965      \n",
      "=================================================================\n",
      "Total params: 567,661\n",
      "Trainable params: 467,661\n",
      "Non-trainable params: 100,000\n",
      "_________________________________________________________________\n"
     ]
    }
   ],
   "source": [
    "# Model summary for category classification\n",
    "model_category.summary()"
   ]
  },
  {
   "cell_type": "code",
   "execution_count": 19,
   "metadata": {
    "id": "Hs-6vUTlEux7"
   },
   "outputs": [],
   "source": [
    "# Define the parameter\n",
    "epochs = 10\n",
    "batch_size = 64"
   ]
  },
  {
   "cell_type": "code",
   "execution_count": 20,
   "metadata": {
    "colab": {
     "base_uri": "https://localhost:8080/"
    },
    "id": "48cKdzFGCOnZ",
    "outputId": "2f7ecc45-6cef-4f08-9345-ec5f1492bfda"
   },
   "outputs": [
    {
     "name": "stdout",
     "output_type": "stream",
     "text": [
      "Train on 11200 samples, validate on 2800 samples\n",
      "Epoch 1/10\n",
      " - 29s - loss: 0.5477 - accuracy: 0.7580 - val_loss: 0.5332 - val_accuracy: 0.7511\n",
      "Epoch 2/10\n",
      " - 29s - loss: 0.5218 - accuracy: 0.7646 - val_loss: 0.5046 - val_accuracy: 0.7654\n",
      "Epoch 3/10\n",
      " - 30s - loss: 0.4945 - accuracy: 0.7746 - val_loss: 0.4599 - val_accuracy: 0.8032\n",
      "Epoch 4/10\n",
      " - 28s - loss: 0.4585 - accuracy: 0.8008 - val_loss: 0.4573 - val_accuracy: 0.8125\n",
      "Epoch 5/10\n",
      " - 30s - loss: 0.4435 - accuracy: 0.8118 - val_loss: 0.4351 - val_accuracy: 0.8075\n",
      "Epoch 6/10\n",
      " - 27s - loss: 0.4321 - accuracy: 0.8172 - val_loss: 0.4364 - val_accuracy: 0.8182\n",
      "Epoch 7/10\n",
      " - 27s - loss: 0.4243 - accuracy: 0.8208 - val_loss: 0.4292 - val_accuracy: 0.8196\n",
      "Epoch 8/10\n",
      " - 27s - loss: 0.4198 - accuracy: 0.8238 - val_loss: 0.4289 - val_accuracy: 0.8171\n",
      "Epoch 9/10\n",
      " - 27s - loss: 0.4123 - accuracy: 0.8276 - val_loss: 0.4361 - val_accuracy: 0.8218\n",
      "Epoch 10/10\n",
      " - 29s - loss: 0.4085 - accuracy: 0.8285 - val_loss: 0.4319 - val_accuracy: 0.8111\n"
     ]
    }
   ],
   "source": [
    "# Train model for sexism classification\n",
    "history_sexism = model_sexism.fit(X_train_sexism, Y_train_sexism, validation_data=(X_test_sexism, Y_test_sexism), epochs=epochs, batch_size=batch_size, verbose=2)"
   ]
  },
  {
   "cell_type": "code",
   "execution_count": 21,
   "metadata": {
    "id": "mtqRwhUNCXSF"
   },
   "outputs": [
    {
     "name": "stdout",
     "output_type": "stream",
     "text": [
      "Train on 11200 samples, validate on 2800 samples\n",
      "Epoch 1/10\n",
      " - 28s - loss: 0.8468 - accuracy: 0.7562 - val_loss: 0.8345 - val_accuracy: 0.7486\n",
      "Epoch 2/10\n",
      " - 29s - loss: 0.8088 - accuracy: 0.7597 - val_loss: 0.8122 - val_accuracy: 0.7486\n",
      "Epoch 3/10\n",
      " - 28s - loss: 0.7748 - accuracy: 0.7603 - val_loss: 0.7757 - val_accuracy: 0.7500\n",
      "Epoch 4/10\n",
      " - 29s - loss: 0.7307 - accuracy: 0.7687 - val_loss: 0.7486 - val_accuracy: 0.7632\n",
      "Epoch 5/10\n",
      " - 28s - loss: 0.7019 - accuracy: 0.7776 - val_loss: 0.7238 - val_accuracy: 0.7739\n",
      "Epoch 6/10\n",
      " - 27s - loss: 0.6932 - accuracy: 0.7812 - val_loss: 0.7108 - val_accuracy: 0.7761\n",
      "Epoch 7/10\n",
      " - 28s - loss: 0.6878 - accuracy: 0.7826 - val_loss: 0.7036 - val_accuracy: 0.7811\n",
      "Epoch 8/10\n",
      " - 28s - loss: 0.6740 - accuracy: 0.7862 - val_loss: 0.6991 - val_accuracy: 0.7821\n",
      "Epoch 9/10\n",
      " - 29s - loss: 0.6687 - accuracy: 0.7898 - val_loss: 0.7084 - val_accuracy: 0.7825\n",
      "Epoch 10/10\n",
      " - 28s - loss: 0.6610 - accuracy: 0.7891 - val_loss: 0.6967 - val_accuracy: 0.7814\n"
     ]
    }
   ],
   "source": [
    "# Train model for category classification\n",
    "history_category = model_category.fit(X_train_category, Y_train_category, validation_data=(X_test_category, Y_test_category), epochs=epochs, batch_size=batch_size, verbose=2)"
   ]
  },
  {
   "cell_type": "code",
   "execution_count": 22,
   "metadata": {
    "id": "yrhLo4o-vZdh"
   },
   "outputs": [
    {
     "data": {
      "image/png": "[encoded data removed]",
      "text/plain": [
       "<Figure size 432x288 with 1 Axes>"
      ]
     },
     "metadata": {
      "needs_background": "light"
     },
     "output_type": "display_data"
    }
   ],
   "source": [
    "# Plot training and validation accuracy\n",
    "plt.plot(history_sexism.history['accuracy'], label='Sexism Classification Accuracy')\n",
    "plt.plot(history_sexism.history['val_accuracy'], label='Sexism Validation Accuracy')\n",
    "plt.plot(history_category.history['accuracy'], label='Category Classification Accuracy')\n",
    "plt.plot(history_category.history['val_accuracy'], label='Category Validation Accuracy')\n",
    "plt.title('Training and Validation Accuracy')\n",
    "plt.xlabel('Epochs')\n",
    "plt.ylabel('Accuracy')\n",
    "plt.legend()\n",
    "plt.show()"
   ]
  },
  {
   "cell_type": "code",
   "execution_count": 28,
   "metadata": {
    "id": "mAEx2DCKCddF"
   },
   "outputs": [
    {
     "name": "stdout",
     "output_type": "stream",
     "text": [
      "Sexism Classification Accuracy: 81.11%\n",
      "Category Classification Accuracy: 78.14%\n"
     ]
    }
   ],
   "source": [
    "# Evaluate sexism classification model\n",
    "loss_sexism, accuracy_sexism = model_sexism.evaluate(X_test_sexism, Y_test_sexism, verbose=0)\n",
    "\n",
    "# Evaluate category classification model\n",
    "loss_category, accuracy_category = model_category.evaluate(X_test_category, Y_test_category, verbose=0)\n",
    "\n",
    "# Evaluate sexism classification model\n",
    "accuracy_sexism_percent = accuracy_sexism * 100\n",
    "print(\"Sexism Classification Accuracy: {:.2f}%\".format(accuracy_sexism_percent))\n",
    "\n",
    "# Evaluate category classification model\n",
    "accuracy_category_percent = accuracy_category * 100\n",
    "print(\"Category Classification Accuracy: {:.2f}%\".format(accuracy_category_percent))"
   ]
  },
  {
   "cell_type": "code",
   "execution_count": 30,
   "metadata": {},
   "outputs": [
    {
     "name": "stdout",
     "output_type": "stream",
     "text": [
      "Sexism Classification loss: 0.43%\n",
      "Category Classification loss: 0.70%\n"
     ]
    }
   ],
   "source": [
    "print(\"Sexism Classification loss: {:.2f}%\".format(loss_sexism))\n",
    "print(\"Category Classification loss: {:.2f}%\".format(loss_category))"
   ]
  },
  {
   "cell_type": "code",
   "execution_count": 26,
   "metadata": {
    "id": "ZXUDCG-FvdxQ"
   },
   "outputs": [
    {
     "name": "stdout",
     "output_type": "stream",
     "text": [
      "Enter text: Is that Ronald's wife?\n",
      "Predicted Sexism Class: not sexist\n",
      "Predicted Category Class: none\n"
     ]
    }
   ],
   "source": [
    "# Take input from user and predict class for both tasks\n",
    "user_input = input(\"Enter text: \")\n",
    "sequence = tokenizer_sexism.texts_to_sequences([user_input])\n",
    "sequence = pad_sequences(sequence, maxlen=X_sexism.shape[1])\n",
    "pred_sexism = model_sexism.predict_classes(sequence)[0]\n",
    "pred_category = model_category.predict_classes(sequence)[0]\n",
    "\n",
    "print(\"Predicted Sexism Class:\", label_encoder_sexism.inverse_transform([pred_sexism])[0])\n",
    "print(\"Predicted Category Class:\", label_encoder_category.inverse_transform([pred_category])[0])"
   ]
  },
  {
   "cell_type": "code",
   "execution_count": null,
   "metadata": {},
   "outputs": [],
   "source": []
  }
 ],
 "metadata": {
  "colab": {
   "provenance": []
  },
  "kernelspec": {
   "display_name": "Python 3",
   "language": "python",
   "name": "python3"
  },
  "language_info": {
   "codemirror_mode": {
    "name": "ipython",
    "version": 3
   },
   "file_extension": ".py",
   "mimetype": "text/x-python",
   "name": "python",
   "nbconvert_exporter": "python",
   "pygments_lexer": "ipython3",
   "version": "3.6.13"
  }
 },
 "nbformat": 4,
 "nbformat_minor": 1
}
